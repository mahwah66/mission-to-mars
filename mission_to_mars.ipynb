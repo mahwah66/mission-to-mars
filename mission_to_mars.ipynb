{
 "cells": [
  {
   "cell_type": "code",
   "execution_count": 10,
   "metadata": {},
   "outputs": [],
   "source": [
    "# Dependencies\n",
    "import requests\n",
    "import time\n",
    "from splinter import Browser\n",
    "from bs4 import BeautifulSoup\n",
    "import pandas as pd\n",
    "# not condoned\n",
    "import warnings\n",
    "warnings.filterwarnings(\"ignore\")"
   ]
  },
  {
   "cell_type": "code",
   "execution_count": 11,
   "metadata": {},
   "outputs": [],
   "source": [
    "# splinter set-up\n",
    "# !which chromedriver\n",
    "executable_path = {'executable_path': '/usr/local/bin/chromedriver'}\n",
    "browser = Browser('chrome', **executable_path, headless=True)"
   ]
  },
  {
   "cell_type": "code",
   "execution_count": 12,
   "metadata": {},
   "outputs": [],
   "source": [
    "# helper functions\n",
    "\n",
    "# browser status code not implemented, so attempting wait on content(css selector) of interest available\n",
    "# or timeout after 10 sec\n",
    "def waitforload(url, selector):\n",
    "    browser.visit(url)\n",
    "    t1 = time.perf_counter()\n",
    "    while browser.is_element_not_present_by_css(selector):\n",
    "        t2 = time.perf_counter()\n",
    "        if (t2-t1)>10:\n",
    "            return \"\"\n",
    "        # wait?\n",
    "    return browser.html\n",
    "\n",
    "def requestsoup(url):\n",
    "    response = requests.get(url, verify=False)\n",
    "    soup = BeautifulSoup(response.text,'html.parser')\n",
    "    return soup"
   ]
  },
  {
   "cell_type": "markdown",
   "metadata": {},
   "source": [
    "---\n",
    "### NASA Mars News\n",
    "[https://mars.nasa.gov/news/](https://mars.nasa.gov/news/)"
   ]
  },
  {
   "cell_type": "code",
   "execution_count": 13,
   "metadata": {},
   "outputs": [
    {
     "name": "stdout",
     "output_type": "stream",
     "text": [
      "InSight Captures Sunrise and Sunset on Mars\n",
      "InSight joins the rest of NASA's Red Planet surface missions, all of which have photographed either the start or end of a Martian day.\n"
     ]
    }
   ],
   "source": [
    "# NASA Mars News\n",
    "news_url = 'https://mars.nasa.gov/news/'\n",
    "\n",
    "html = waitforload(news_url, 'div[class=\"content_title\"]')\n",
    "\n",
    "if html!=\"\":\n",
    "    # news_title = browser.find_by_css('div[class=\"content_title\"] a')[0].text   \n",
    "    # news_p = browser.find_by_css('div[class=\"article_teaser_body\"]')[0].text   \n",
    "    # soup parse faster\n",
    "    soup = BeautifulSoup(html, 'html.parser')\n",
    "    results = soup.find('div', 'list_text')\n",
    "    news_title = results.find('div','content_title').find('a').text\n",
    "    news_p = results.find('div','article_teaser_body').text\n",
    "else:\n",
    "    news_title = \"Latest News Currently Unavailable\"\n",
    "    news_p = \"The connection timed out. Please check back later.\"\n",
    "\n",
    "print(news_title)\n",
    "print(news_p)"
   ]
  },
  {
   "cell_type": "markdown",
   "metadata": {},
   "source": [
    "---\n",
    "### JPL Mars Space Images - Featured Image\n",
    "[https://www.jpl.nasa.gov/spaceimages/?search=&category=Mars](https://www.jpl.nasa.gov/spaceimages/?search=&category=Mars)"
   ]
  },
  {
   "cell_type": "code",
   "execution_count": 28,
   "metadata": {},
   "outputs": [
    {
     "data": {
      "text/plain": [
       "'https://www.jpl.nasa.gov/spaceimages/images/largesize/PIA17550_hires.jpg'"
      ]
     },
     "execution_count": 28,
     "metadata": {},
     "output_type": "execute_result"
    }
   ],
   "source": [
    "# JPL Mars Space Images - Featured Image\n",
    "qurl = 'https://www.jpl.nasa.gov/spaceimages/?search=&category=Mars'\n",
    "url = qurl.split('/spaceimages')[0]\n",
    "\n",
    "soup = requestsoup(qurl)\n",
    "\n",
    "try:\n",
    "    iurl = url + soup.find('a', id='full_image')[\"data-link\"]\n",
    "    soup = requestsoup(iurl)\n",
    "    ilink = soup.find('img', 'main_image')\n",
    "    if ilink!=None:\n",
    "        featured_image_url = url+ilink[\"src\"]\n",
    "    else:\n",
    "        featured_image_url = \"\"\n",
    "        print('not finding featured image src')\n",
    "except:\n",
    "    featured_image_url = \"\"\n",
    "    print('not finding a tag with data-link attr')\n",
    "\n",
    "featured_image_url"
   ]
  },
  {
   "cell_type": "markdown",
   "metadata": {},
   "source": [
    "---\n",
    "### Mars Weather\n",
    "[https://twitter.com/marswxreport?lang=en](https://twitter.com/marswxreport?lang=en)"
   ]
  },
  {
   "cell_type": "code",
   "execution_count": 29,
   "metadata": {},
   "outputs": [
    {
     "data": {
      "text/plain": [
       "'InSight sol 155 (2019-05-04) low -99.3ºC (-146.8ºF) high -18.8ºC (-1.8ºF) winds from the SW at 4.5 m/s (10.1 mph) gusting to 14.3 m/s (31.9 mph) pressure at 7.40 hPa'"
      ]
     },
     "execution_count": 29,
     "metadata": {},
     "output_type": "execute_result"
    }
   ],
   "source": [
    "# Mars Weather\n",
    "url = 'https://twitter.com/marswxreport?lang=en'\n",
    "    \n",
    "soup = requestsoup(url)\n",
    "tweet = soup.find('p','tweet-text')\n",
    "\n",
    "try:\n",
    "    tweet = tweet.text.split('pic.twitter')[0]\n",
    "    mars_weather = ' '.join(tweet.split('\\n'))\n",
    "except Exception as e:\n",
    "    mars_weather = \"\"\n",
    "    print('tweet not found or has no text')\n",
    "    \n",
    "mars_weather"
   ]
  },
  {
   "cell_type": "markdown",
   "metadata": {},
   "source": [
    "---\n",
    "### Mars Facts\n",
    "[https://space-facts.com/mars/](https://space-facts.com/mars/)"
   ]
  },
  {
   "cell_type": "code",
   "execution_count": 34,
   "metadata": {},
   "outputs": [
    {
     "data": {
      "text/plain": [
       "'<table border=\"1\" class=\"dataframe\">  <tbody>    <tr>      <th>Equatorial Diameter:</th>      <td>6,792 km</td>    </tr>    <tr>      <th>Polar Diameter:</th>      <td>6,752 km</td>    </tr>    <tr>      <th>Mass:</th>      <td>6.42 x 10^23 kg (10.7% Earth)</td>    </tr>    <tr>      <th>Moons:</th>      <td>2 (Phobos &amp; Deimos)</td>    </tr>    <tr>      <th>Orbit Distance:</th>      <td>227,943,824 km (1.52 AU)</td>    </tr>    <tr>      <th>Orbit Period:</th>      <td>687 days (1.9 years)</td>    </tr>    <tr>      <th>Surface Temperature:</th>      <td>-153 to 20 °C</td>    </tr>    <tr>      <th>First Record:</th>      <td>2nd millennium BC</td>    </tr>    <tr>      <th>Recorded By:</th>      <td>Egyptian astronomers</td>    </tr>  </tbody></table>'"
      ]
     },
     "execution_count": 34,
     "metadata": {},
     "output_type": "execute_result"
    }
   ],
   "source": [
    "# Mars Facts\n",
    "url = 'https://space-facts.com/mars/'\n",
    "\n",
    "tables = pd.read_html(url)\n",
    "try:\n",
    "    df = tables[0]\n",
    "    df.set_index(0, inplace=True)\n",
    "    del df.index.name\n",
    "    html_table = df.to_html(header=False)\n",
    "    html_table=html_table.replace('\\n', '')\n",
    "except Exception as e:\n",
    "    html_table=\"\"\n",
    "    print('not finding tables')\n",
    "    \n",
    "html_table"
   ]
  },
  {
   "cell_type": "markdown",
   "metadata": {},
   "source": [
    "---\n",
    "### Mars Hemispheres\n",
    "[https://astrogeology.usgs.gov/search/results?q=hemisphere+enhanced&k1=target&v1=Mars](https://astrogeology.usgs.gov/search/results?q=hemisphere+enhanced&k1=target&v1=Mars)"
   ]
  },
  {
   "cell_type": "code",
   "execution_count": 33,
   "metadata": {},
   "outputs": [
    {
     "name": "stdout",
     "output_type": "stream",
     "text": [
      "{'title': 'Cerberus Hemisphere Enhanced', 'img_url': 'http://astropedia.astrogeology.usgs.gov/download/Mars/Viking/cerberus_enhanced.tif/full.jpg'}\n",
      "{'title': 'Schiaparelli Hemisphere Enhanced', 'img_url': 'http://astropedia.astrogeology.usgs.gov/download/Mars/Viking/schiaparelli_enhanced.tif/full.jpg'}\n",
      "{'title': 'Syrtis Major Hemisphere Enhanced', 'img_url': 'http://astropedia.astrogeology.usgs.gov/download/Mars/Viking/syrtis_major_enhanced.tif/full.jpg'}\n",
      "{'title': 'Valles Marineris Hemisphere Enhanced', 'img_url': 'http://astropedia.astrogeology.usgs.gov/download/Mars/Viking/valles_marineris_enhanced.tif/full.jpg'}\n"
     ]
    }
   ],
   "source": [
    "# Mars Hemispheres\n",
    "surl = 'https://astrogeology.usgs.gov/search/results?q=hemisphere+enhanced&k1=target&v1=Mars'\n",
    "url = surl.split('/search')[0]\n",
    "\n",
    "html = waitforload(surl, 'div[class=\"description\"]')\n",
    "# this page sometimes takes a long time to load, or fails to load\n",
    "\n",
    "if (html!=\"\"):\n",
    "    soup = BeautifulSoup(html, 'html.parser')\n",
    "    divs = soup.find_all('div','description')\n",
    "    hrefs = [d.find('a')['href'] for d in divs]\n",
    "\n",
    "    hemisphere_image_urls = []\n",
    "    for href in hrefs:\n",
    "        furl = url+href\n",
    "        soup = requestsoup(furl)\n",
    "        try:\n",
    "            title = soup.find('h2','title').text\n",
    "            img_url = soup.find('div','downloads').find('a')['href']\n",
    "            hemisphere_image_urls.append({\"title\":title, \"img_url\":img_url})\n",
    "        except Exception as e:\n",
    "            print(f'error finding title or image at {furl}')\n",
    "            continue\n",
    "\n",
    "    \n",
    "for rec in hemisphere_image_urls:\n",
    "    print(rec)\n",
    "    "
   ]
  },
  {
   "cell_type": "code",
   "execution_count": null,
   "metadata": {},
   "outputs": [],
   "source": []
  }
 ],
 "metadata": {
  "kernelspec": {
   "display_name": "pythonData",
   "language": "python",
   "name": "pythondata"
  },
  "language_info": {
   "codemirror_mode": {
    "name": "ipython",
    "version": 3
   },
   "file_extension": ".py",
   "mimetype": "text/x-python",
   "name": "python",
   "nbconvert_exporter": "python",
   "pygments_lexer": "ipython3",
   "version": "3.7.2"
  },
  "varInspector": {
   "cols": {
    "lenName": 16,
    "lenType": 16,
    "lenVar": 40
   },
   "kernels_config": {
    "python": {
     "delete_cmd_postfix": "",
     "delete_cmd_prefix": "del ",
     "library": "var_list.py",
     "varRefreshCmd": "print(var_dic_list())"
    },
    "r": {
     "delete_cmd_postfix": ") ",
     "delete_cmd_prefix": "rm(",
     "library": "var_list.r",
     "varRefreshCmd": "cat(var_dic_list()) "
    }
   },
   "types_to_exclude": [
    "module",
    "function",
    "builtin_function_or_method",
    "instance",
    "_Feature"
   ],
   "window_display": false
  }
 },
 "nbformat": 4,
 "nbformat_minor": 2
}
